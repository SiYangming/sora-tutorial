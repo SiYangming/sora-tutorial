{
 "cells": [
  {
   "cell_type": "markdown",
   "id": "a6b573d4-3332-4eec-8ed7-d89a2658cb6f",
   "metadata": {},
   "source": [
    "## 准备"
   ]
  },
  {
   "cell_type": "code",
   "execution_count": null,
   "id": "c60ea58a-9276-4b16-85e9-8830e1482e26",
   "metadata": {},
   "outputs": [],
   "source": [
    "!git clone https://github.com/hscspring/llama.np"
   ]
  },
  {
   "cell_type": "code",
   "execution_count": 4,
   "id": "3954f919-22ea-491d-82d3-9a91daf35055",
   "metadata": {
    "tags": []
   },
   "outputs": [
    {
     "name": "stdout",
     "output_type": "stream",
     "text": [
      "/storage/home/lanzhenzhongLab/haoshaochun/llm_lab/transformer-llm/llm/llama.np\n"
     ]
    }
   ],
   "source": [
    "%cd llama.np/"
   ]
  },
  {
   "cell_type": "code",
   "execution_count": null,
   "id": "7a9d38ef-ab44-49bc-8fbd-ea7fb0dca02e",
   "metadata": {},
   "outputs": [],
   "source": [
    "# 从这里下载模型 https://hf-mirror.com/karpathy/tinyllamas/tree/main\n",
    "# 放到llama.np目录"
   ]
  },
  {
   "cell_type": "code",
   "execution_count": 1,
   "id": "75d85e08-6291-4322-89b7-144a8e2110a1",
   "metadata": {},
   "outputs": [],
   "source": [
    "# 转换格式\n",
    "!python convert_bin_llama_to_np.py stories15M.bin"
   ]
  },
  {
   "cell_type": "code",
   "execution_count": 5,
   "id": "01275c0f-8599-45f0-a212-f1c0dbbcc795",
   "metadata": {
    "tags": []
   },
   "outputs": [
    {
     "name": "stdout",
     "output_type": "stream",
     "text": [
      "total 147680\n",
      "-rw-rw-r-- 1 haoshaochun lanzhenzhong      350 Mar  2 09:33 config.py\n",
      "-rw-rw-r-- 1 haoshaochun lanzhenzhong     4016 Mar  2 09:33 convert_bin_llama_to_np.py\n",
      "-rw-rw-r-- 1 haoshaochun lanzhenzhong      528 Mar  2 09:33 convert_hf_llama_to_np.py\n",
      "-rw-rw-r-- 1 haoshaochun lanzhenzhong     1247 Mar  2 09:33 convert_hf_tokenizer.py\n",
      "-rw-rw-r-- 1 haoshaochun lanzhenzhong    11357 Mar  2 09:33 LICENSE\n",
      "-rw-rw-r-- 1 haoshaochun lanzhenzhong      965 Mar  2 09:33 main.py\n",
      "-rw-rw-r-- 1 haoshaochun lanzhenzhong    13144 Mar  2 09:33 model.py\n",
      "drwxrwxr-x 2 haoshaochun lanzhenzhong     4096 Mar  2 09:34 __pycache__\n",
      "-rw-rw-r-- 1 haoshaochun lanzhenzhong     1988 Mar  2 09:33 README.md\n",
      "-rw-rw-r-- 1 haoshaochun lanzhenzhong 60816028 Mar  2 09:35 stories15M.bin\n",
      "-rw-rw-r-- 1 haoshaochun lanzhenzhong 89463921 Mar  2 09:38 stories15M.model.npz\n",
      "-rw-rw-r-- 1 haoshaochun lanzhenzhong     1710 Mar  2 09:33 test_model.py\n",
      "-rw-rw-r-- 1 haoshaochun lanzhenzhong   868932 Mar  2 09:33 tokenizer.model.np\n",
      "-rw-rw-r-- 1 haoshaochun lanzhenzhong     2366 Mar  2 09:33 tokenizer.py\n"
     ]
    }
   ],
   "source": [
    "!ls -l "
   ]
  },
  {
   "cell_type": "code",
   "execution_count": 6,
   "id": "852a4d13-f716-4ab2-91c6-56e902dfcda4",
   "metadata": {
    "tags": []
   },
   "outputs": [
    {
     "name": "stdout",
     "output_type": "stream",
     "text": [
      "\n",
      "Once upon a time, there wa a sleepy cat named Tom. Tom wa very tired because he played with hi toy all day. He liked to play with hi ball and run around the house. One day, while Tom wa playing, he felt a shock. He did not know why, but he just felt very awake.\n",
      "Tom went to hi friend, the wise old owl. The owl told him that a big storm wa coming. Tom did not know what a storm wa, but he felt scared. The wise old owl told Tom that a big storm wa coming and that he should go inside soon.\n",
      "Tom went back home and looked out the window. He saw hi ball, a bird, and a big tree. He decided to play and be safe inside. After the storm passed, Tom went outside and found a new place to play. He wa not sleepy anymore. He wa very happy.\n",
      "\n",
      "Token count: 192, cost: 15.02s, 13tokens/s\n"
     ]
    }
   ],
   "source": [
    "# 生成\n",
    "!python main.py \"Once upon\""
   ]
  },
  {
   "cell_type": "markdown",
   "id": "f5ba5b6f-946d-4140-9dd2-145cde4c515b",
   "metadata": {},
   "source": [
    "## LLaMA"
   ]
  },
  {
   "cell_type": "markdown",
   "id": "717a224a-72c0-46e2-ba9d-34b0c2708e59",
   "metadata": {},
   "source": [
    "- Tokenize\n",
    "- Decoding\n",
    "- Transformer Block"
   ]
  },
  {
   "cell_type": "markdown",
   "id": "82f31fac-f4bd-40dd-a221-24aae8e2ace8",
   "metadata": {},
   "source": [
    "![](https://qnimg.lovevivian.cn/blog-llama-arch.jpg)"
   ]
  },
  {
   "cell_type": "code",
   "execution_count": 10,
   "id": "7cd63dbf-1bda-4b80-838d-0d1b123cb93f",
   "metadata": {
    "tags": []
   },
   "outputs": [],
   "source": [
    "from config import ModelArgs\n",
    "from model import Llama\n",
    "from tokenizer import Tokenizer\n",
    "import numpy as np"
   ]
  },
  {
   "cell_type": "code",
   "execution_count": 11,
   "id": "87905219-fd0d-4b78-b2d4-9200c8ac8bca",
   "metadata": {
    "tags": []
   },
   "outputs": [],
   "source": [
    "args = ModelArgs(288, 6, 6, 6, 32000, None, 256)\n",
    "\n",
    "token_model_path = \"./tokenizer.model.np\"\n",
    "model_path = \"./stories15M.model.npz\"\n",
    "\n",
    "tok = Tokenizer(token_model_path)\n",
    "llama = Llama(model_path, args)"
   ]
  },
  {
   "cell_type": "code",
   "execution_count": 16,
   "id": "92579d0b-4990-4747-bc5a-b72e5dfc9140",
   "metadata": {
    "tags": []
   },
   "outputs": [
    {
     "name": "stdout",
     "output_type": "stream",
     "text": [
      "Once upon a time, there wa a boy named Tom. Tom had a lamp that he loved very much. It wa hi favorite thing. He would sleep and play with the lamp every night. Tom thought the lamp wa incredible.\n",
      "One day, Tom' friend, Sam, came to play. Sam saw the lamp and said, \"Wow, that lamp i so cool! Can I play with it too?\" Tom wa happy to share hi incredible lamp with hi friend.\n",
      "They played with the lamp all day. But then, Sam accidentally dropped the lamp. The lamp broke into two piece. Tom wa sad. But Sam said, \"I'm sorry, Tom. I didn't mean to break the lamp.\" Tom hugged Sam and said, \"It' okay. We can still play together.\" And they were both happy again."
     ]
    }
   ],
   "source": [
    "prompt = \"Once upon\"\n",
    "\n",
    "ids = tok.encode(prompt)\n",
    "input_ids = np.array([ids], dtype=np.int32)\n",
    "token_num = input_ids.shape[1]\n",
    "\n",
    "print(prompt, end=\"\")\n",
    "for ids in llama.generate(input_ids, args.max_seq_len, True, 1.0, 0.9, 0):\n",
    "    output_ids = ids[0].tolist()\n",
    "    if output_ids[-1] in [tok.eos_id, tok.bos_id]:\n",
    "        break\n",
    "    output_text = tok.decode(output_ids)\n",
    "    print(output_text, end=\"\")"
   ]
  },
  {
   "cell_type": "code",
   "execution_count": null,
   "id": "aede551f-4ffa-4872-9498-8e866e50b1fb",
   "metadata": {},
   "outputs": [],
   "source": []
  },
  {
   "cell_type": "code",
   "execution_count": null,
   "id": "e369ccf6-520b-45cb-8ab3-99fdace0e030",
   "metadata": {},
   "outputs": [],
   "source": []
  }
 ],
 "metadata": {
  "kernelspec": {
   "display_name": "Python 3 (ipykernel)",
   "language": "python",
   "name": "python3"
  },
  "language_info": {
   "codemirror_mode": {
    "name": "ipython",
    "version": 3
   },
   "file_extension": ".py",
   "mimetype": "text/x-python",
   "name": "python",
   "nbconvert_exporter": "python",
   "pygments_lexer": "ipython3",
   "version": "3.11.5"
  }
 },
 "nbformat": 4,
 "nbformat_minor": 5
}
